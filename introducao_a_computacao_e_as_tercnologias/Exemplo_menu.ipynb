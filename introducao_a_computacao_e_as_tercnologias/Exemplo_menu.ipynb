{
  "nbformat": 4,
  "nbformat_minor": 0,
  "metadata": {
    "colab": {
      "provenance": []
    },
    "kernelspec": {
      "name": "python3",
      "display_name": "Python 3"
    },
    "language_info": {
      "name": "python"
    }
  },
  "cells": [
    {
      "cell_type": "code",
      "execution_count": null,
      "metadata": {
        "colab": {
          "base_uri": "https://localhost:8080/"
        },
        "id": "LZ_0gqho3tLW",
        "outputId": "9d5432fd-7f34-4369-db1b-254ff64bc182"
      },
      "outputs": [
        {
          "output_type": "stream",
          "name": "stdout",
          "text": [
            "______________________________\n",
            "Escolha uma opção:\n",
            "1 - Opção 1\n",
            "2 - Opção 2\n",
            "3 - Opção 3\n",
            "4 - Opção 4\n",
            "5 - Sair\n",
            "Digite o número da opção desejada: 1\n",
            "______________________________\n",
            "Você escolheu a opção 1\n",
            "______________________________\n",
            "Escolha uma opção:\n",
            "1 - Opção 1\n",
            "2 - Opção 2\n",
            "3 - Opção 3\n",
            "4 - Opção 4\n",
            "5 - Sair\n",
            "Digite o número da opção desejada: 5\n",
            "______________________________\n",
            "Saindo...\n"
          ]
        }
      ],
      "source": [
        "while True:\n",
        "    print(\"_\"*30)\n",
        "    print(\"Escolha uma opção:\")\n",
        "    print(\"1 - Opção 1\")\n",
        "    print(\"2 - Opção 2\")\n",
        "    print(\"3 - Opção 3\")\n",
        "    print(\"4 - Opção 4\")\n",
        "    print(\"5 - Sair\")\n",
        "    opcao = input(\"Digite o número da opção desejada: \")\n",
        "    print(\"_\"*30)\n",
        "    if opcao == \"1\":\n",
        "        print(\"Você escolheu a opção 1\")\n",
        "    elif opcao == \"2\":\n",
        "        print(\"Você escolheu a opção 2\")\n",
        "    elif opcao == \"3\":\n",
        "        print(\"Você escolheu a opção 3\")\n",
        "    elif opcao == \"4\":\n",
        "        print(\"Você escolheu a opção 4\")\n",
        "    elif opcao == \"5\":\n",
        "        print(\"Saindo...\")\n",
        "        break\n",
        "    else:\n",
        "        print(\"Opção inválida. Por favor, escolha uma opção válida.\")\n",
        "\n"
      ]
    }
  ]
}